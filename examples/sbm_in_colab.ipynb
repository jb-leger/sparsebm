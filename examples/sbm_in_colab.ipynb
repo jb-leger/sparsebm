{
 "cells": [
  {
   "cell_type": "markdown",
   "metadata": {
    "id": "HOoAYj8DfyUK"
   },
   "source": [
    "# Notebook initialization\n",
    "\n",
    "This notebook provide a introduction using sparsebm on GPU with _Colab_.\n",
    "\n",
    "**⚠️ Do not skip this step ⚠️**\n",
    "\n",
    "You muse enable GPUs for the notebook:\n",
    " - Navigate to Edit→Notebook Settings\n",
    " - select GPU from the Hardware Accelerator drop-down\n"
   ]
  },
  {
   "cell_type": "markdown",
   "metadata": {
    "id": "ttFXofC6egOR"
   },
   "source": [
    "# Installation of `sparsebm` and importing the module.\n",
    "\n",
    "The SparseBM module is distributed through the [PyPI repository](https://pypi.org/project/sparsebm/) and the documentation is available at [sparsebm.readthedocs.io](https://sparsebm.readthedocs.io).\n",
    "\n",
    "On _Google colab_, the module `cupy` to use GPU is already installed. Only `sparsebm` need to be installed:"
   ]
  },
  {
   "cell_type": "code",
   "execution_count": null,
   "metadata": {
    "id": "Nvh1yo3Dac5N"
   },
   "outputs": [],
   "source": [
    "# estimated time in colab : <10s\n",
    "!pip install sparsebm --extra-index-url https://gitlab.com/api/v4/projects/38703416/packages/pypi/simple"
   ]
  },
  {
   "cell_type": "markdown",
   "metadata": {
    "id": "q9Gi2ID2i_Ic"
   },
   "source": [
    "Now, we only have to import the module."
   ]
  },
  {
   "cell_type": "code",
   "execution_count": 2,
   "metadata": {
    "id": "8hFb7qzPjDZI"
   },
   "outputs": [],
   "source": [
    "# estimated time in colab: <1s\n",
    "import sparsebm"
   ]
  },
  {
   "cell_type": "markdown",
   "metadata": {
    "id": "PWP7Yk3Niqvq"
   },
   "source": [
    "# Example with the Stochastic Block Model with a known number of classes\n",
    "\n",
    "First we generate a synthetic graph. To illustrate the behavior, we choose to generate a large graph ($2\\cdot 10^4$ nodes), with 4 clusters, with a mean degree of 50."
   ]
  },
  {
   "cell_type": "code",
   "execution_count": null,
   "metadata": {
    "id": "aGY9CrcManBp"
   },
   "outputs": [],
   "source": [
    "# estimated time in colab: 14s\n",
    "import numpy as np\n",
    "\n",
    "N=2*10**4\n",
    "connection_matrix = 25*2/N*np.random.uniform(size=(4,4))\n",
    "connection_matrix[np.tril_indices(4)]=connection_matrix.T[np.tril_indices(4)]\n",
    "\n",
    "dataset = sparsebm.generate_SBM_dataset(symmetric=True, number_of_nodes=5*10**4, number_of_clusters=4, connection_probabilities=connection_matrix)\n",
    "graph = dataset[\"data\"]\n",
    "true_labels = dataset[\"cluster_indicator\"].argmax(1)"
   ]
  },
  {
   "cell_type": "markdown",
   "metadata": {
    "id": "CBQ42s2v8qrK"
   },
   "source": [
    "## Inference\n",
    "\n",
    "For this part, we assume knowing the number of clusters (4 in this example)."
   ]
  },
  {
   "cell_type": "markdown",
   "metadata": {
    "id": "WdyFxfm92v3K"
   },
   "source": [
    "We can now perform the inference, by declaring the `model` object and fiting the model. The module uses here the same logic as scikit-learn."
   ]
  },
  {
   "cell_type": "code",
   "execution_count": null,
   "metadata": {
    "id": "B3IgYmJhawic"
   },
   "outputs": [],
   "source": [
    "# estimated time in colab: 1m 15s\n",
    "model = sparsebm.SBM(4)\n",
    "model.fit(graph, symmetric=True)"
   ]
  },
  {
   "cell_type": "markdown",
   "metadata": {
    "id": "aPkJhoJg3H2W"
   },
   "source": [
    "Now, we can compare the infered labels in `model.labels` to the simulated labels in `true_labels` using the adjusted Rand index:"
   ]
  },
  {
   "cell_type": "code",
   "execution_count": 6,
   "metadata": {
    "colab": {
     "base_uri": "https://localhost:8080/"
    },
    "id": "WJL-yRFCx0uH",
    "outputId": "eb7d67b7-bc97-4bb0-ac2c-7a1e43f0b4ed"
   },
   "outputs": [
    {
     "data": {
      "text/plain": [
       "0.9859864239367305"
      ]
     },
     "execution_count": 6,
     "metadata": {},
     "output_type": "execute_result"
    }
   ],
   "source": [
    "# estimated time in colab: <1s\n",
    "sparsebm.utils.ARI(true_labels, model.labels)"
   ]
  },
  {
   "cell_type": "markdown",
   "metadata": {
    "id": "N7uFRJRyDNt-"
   },
   "source": [
    "Since the ARI is near 1, we can conclude the infereence is able to retreive the structure of the graph. Other elements can be retreived."
   ]
  }
 ],
 "metadata": {
  "accelerator": "GPU",
  "colab": {
   "collapsed_sections": [],
   "name": "Untitled2.ipynb",
   "provenance": []
  },
  "gpuClass": "standard",
  "kernelspec": {
   "display_name": "Python 3 (ipykernel)",
   "language": "python",
   "name": "python3"
  },
  "language_info": {
   "codemirror_mode": {
    "name": "ipython",
    "version": 3
   },
   "file_extension": ".py",
   "mimetype": "text/x-python",
   "name": "python",
   "nbconvert_exporter": "python",
   "pygments_lexer": "ipython3",
   "version": "3.9.2"
  }
 },
 "nbformat": 4,
 "nbformat_minor": 1
}
